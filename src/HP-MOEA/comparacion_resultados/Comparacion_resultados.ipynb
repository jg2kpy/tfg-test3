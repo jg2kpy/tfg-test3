{
 "cells": [
  {
   "cell_type": "markdown",
   "id": "605d3a32",
   "metadata": {},
   "source": [
    "# Comparación de resultados"
   ]
  },
  {
   "cell_type": "code",
   "execution_count": 28,
   "id": "d982a305",
   "metadata": {},
   "outputs": [
    {
     "name": "stdout",
     "output_type": "stream",
     "text": [
      "Archivo                                                      |       HV |       GD |      IGD\n",
      "------------------------------------------------------------------------------------------\n",
      "poblacion_final_NSGA-III_100_50_20250726_102735.pkl          |   0.4735 |   0.0017 |   0.0132\n",
      "poblacion_final_NSGA-III_100_50_20250726_104302.pkl          |   0.4761 |   0.0013 |   0.0144\n",
      "poblacion_final_NSGA-III_100_50_20250726_105823.pkl          |   0.4760 |   0.0009 |   0.0134\n",
      "poblacion_final_NSGA-III_100_50_20250726_111329.pkl          |   0.4764 |   0.0010 |   0.0129\n",
      "poblacion_final_NSGA-III_100_50_20250726_112853.pkl          |   0.4785 |   0.0005 |   0.0133\n",
      "poblacion_final_NSGA-III_100_50_20250726_114429.pkl          |   0.4732 |   0.0016 |   0.0132\n",
      "poblacion_final_NSGA-III_100_50_20250726_115905.pkl          |   0.4756 |   0.0019 |   0.0140\n",
      "poblacion_final_NSGA-III_100_50_20250726_121350.pkl          |   0.4774 |   0.0011 |   0.0130\n",
      "poblacion_final_NSGA-III_100_50_20250726_122918.pkl          |   0.4726 |   0.0020 |   0.0141\n",
      "poblacion_final_NSGA-III_100_50_20250726_124550.pkl          |   0.4762 |   0.0012 |   0.0136\n",
      "poblacion_final_NSGA-III_100_50_20250726_130205.pkl          |   0.4766 |   0.0007 |   0.0120\n",
      "poblacion_final_NSGA-III_100_50_20250726_131729.pkl          |   0.4737 |   0.0010 |   0.0131\n",
      "poblacion_final_NSGA-III_100_50_20250726_133309.pkl          |   0.4736 |   0.0012 |   0.0136\n",
      "poblacion_final_NSGA-III_100_50_20250726_134919.pkl          |   0.4754 |   0.0005 |   0.0135\n",
      "poblacion_final_NSGA-III_100_50_20250726_140558.pkl          |   0.4759 |   0.0006 |   0.0132\n",
      "poblacion_final_NSGA-III_100_50_20250726_142213.pkl          |   0.4733 |   0.0023 |   0.0125\n",
      "poblacion_final_NSGA-III_100_50_20250726_143817.pkl          |   0.4763 |   0.0012 |   0.0130\n",
      "poblacion_final_NSGA-III_100_50_20250726_145325.pkl          |   0.4742 |   0.0015 |   0.0147\n",
      "poblacion_final_NSGA-III_100_50_20250726_150836.pkl          |   0.4770 |   0.0010 |   0.0131\n",
      "poblacion_final_NSGA-III_100_50_20250726_152358.pkl          |   0.4718 |   0.0006 |   0.0150\n",
      "poblacion_final_NSGA-III_100_50_20250726_153910.pkl          |   0.4715 |   0.0023 |   0.0145\n",
      "poblacion_final_NSGA-III_100_50_20250726_155426.pkl          |   0.4746 |   0.0012 |   0.0127\n",
      "poblacion_final_NSGA-III_100_50_20250726_160939.pkl          |   0.4743 |   0.0003 |   0.0177\n",
      "poblacion_final_NSGA-III_100_50_20250726_162449.pkl          |   0.4724 |   0.0010 |   0.0132\n",
      "poblacion_final_NSGA-III_100_50_20250726_165510.pkl          |   0.4757 |   0.0007 |   0.0163\n",
      "poblacion_final_NSGA-III_100_50_20250726_171020.pkl          |   0.4752 |   0.0008 |   0.0139\n",
      "poblacion_final_NSGA-III_100_50_20250726_172527.pkl          |   0.4749 |   0.0005 |   0.0134\n",
      "poblacion_final_NSGA-III_100_50_20250726_174043.pkl          |   0.4731 |   0.0019 |   0.0128\n",
      "------------------------------------------------------------------------------------------\n",
      "PROMEDIO                                                     |   0.4748 |   0.0012 |   0.0137\n",
      "DESV.STD                                                     |   0.0017 |   0.0006 |   0.0011\n"
     ]
    },
    {
     "data": {
      "application/vnd.plotly.v1+json": {
       "config": {
        "linkText": "Export to plot.ly",
        "plotlyServerURL": "https://plot.ly",
        "showLink": false
       },
       "data": [
        {
         "marker": {
          "color": "red",
          "size": 4
         },
         "mode": "markers",
         "name": "Mejor frente no dominado",
         "type": "scatter3d",
         "x": {
          "bdata": "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",
          "dtype": "f8"
         },
         "y": {
          "bdata": "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",
          "dtype": "f8"
         },
         "z": {
          "bdata": "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",
          "dtype": "f8"
         }
        }
       ],
       "layout": {
        "scene": {
         "xaxis": {
          "title": {
           "text": "Objetivo 1"
          }
         },
         "yaxis": {
          "title": {
           "text": "Objetivo 2"
          }
         },
         "zaxis": {
          "title": {
           "text": "Objetivo 3"
          }
         }
        },
        "template": {
         "data": {
          "bar": [
           {
            "error_x": {
             "color": "#2a3f5f"
            },
            "error_y": {
             "color": "#2a3f5f"
            },
            "marker": {
             "line": {
              "color": "#E5ECF6",
              "width": 0.5
             },
             "pattern": {
              "fillmode": "overlay",
              "size": 10,
              "solidity": 0.2
             }
            },
            "type": "bar"
           }
          ],
          "barpolar": [
           {
            "marker": {
             "line": {
              "color": "#E5ECF6",
              "width": 0.5
             },
             "pattern": {
              "fillmode": "overlay",
              "size": 10,
              "solidity": 0.2
             }
            },
            "type": "barpolar"
           }
          ],
          "carpet": [
           {
            "aaxis": {
             "endlinecolor": "#2a3f5f",
             "gridcolor": "white",
             "linecolor": "white",
             "minorgridcolor": "white",
             "startlinecolor": "#2a3f5f"
            },
            "baxis": {
             "endlinecolor": "#2a3f5f",
             "gridcolor": "white",
             "linecolor": "white",
             "minorgridcolor": "white",
             "startlinecolor": "#2a3f5f"
            },
            "type": "carpet"
           }
          ],
          "choropleth": [
           {
            "colorbar": {
             "outlinewidth": 0,
             "ticks": ""
            },
            "type": "choropleth"
           }
          ],
          "contour": [
           {
            "colorbar": {
             "outlinewidth": 0,
             "ticks": ""
            },
            "colorscale": [
             [
              0,
              "#0d0887"
             ],
             [
              0.1111111111111111,
              "#46039f"
             ],
             [
              0.2222222222222222,
              "#7201a8"
             ],
             [
              0.3333333333333333,
              "#9c179e"
             ],
             [
              0.4444444444444444,
              "#bd3786"
             ],
             [
              0.5555555555555556,
              "#d8576b"
             ],
             [
              0.6666666666666666,
              "#ed7953"
             ],
             [
              0.7777777777777778,
              "#fb9f3a"
             ],
             [
              0.8888888888888888,
              "#fdca26"
             ],
             [
              1,
              "#f0f921"
             ]
            ],
            "type": "contour"
           }
          ],
          "contourcarpet": [
           {
            "colorbar": {
             "outlinewidth": 0,
             "ticks": ""
            },
            "type": "contourcarpet"
           }
          ],
          "heatmap": [
           {
            "colorbar": {
             "outlinewidth": 0,
             "ticks": ""
            },
            "colorscale": [
             [
              0,
              "#0d0887"
             ],
             [
              0.1111111111111111,
              "#46039f"
             ],
             [
              0.2222222222222222,
              "#7201a8"
             ],
             [
              0.3333333333333333,
              "#9c179e"
             ],
             [
              0.4444444444444444,
              "#bd3786"
             ],
             [
              0.5555555555555556,
              "#d8576b"
             ],
             [
              0.6666666666666666,
              "#ed7953"
             ],
             [
              0.7777777777777778,
              "#fb9f3a"
             ],
             [
              0.8888888888888888,
              "#fdca26"
             ],
             [
              1,
              "#f0f921"
             ]
            ],
            "type": "heatmap"
           }
          ],
          "histogram": [
           {
            "marker": {
             "pattern": {
              "fillmode": "overlay",
              "size": 10,
              "solidity": 0.2
             }
            },
            "type": "histogram"
           }
          ],
          "histogram2d": [
           {
            "colorbar": {
             "outlinewidth": 0,
             "ticks": ""
            },
            "colorscale": [
             [
              0,
              "#0d0887"
             ],
             [
              0.1111111111111111,
              "#46039f"
             ],
             [
              0.2222222222222222,
              "#7201a8"
             ],
             [
              0.3333333333333333,
              "#9c179e"
             ],
             [
              0.4444444444444444,
              "#bd3786"
             ],
             [
              0.5555555555555556,
              "#d8576b"
             ],
             [
              0.6666666666666666,
              "#ed7953"
             ],
             [
              0.7777777777777778,
              "#fb9f3a"
             ],
             [
              0.8888888888888888,
              "#fdca26"
             ],
             [
              1,
              "#f0f921"
             ]
            ],
            "type": "histogram2d"
           }
          ],
          "histogram2dcontour": [
           {
            "colorbar": {
             "outlinewidth": 0,
             "ticks": ""
            },
            "colorscale": [
             [
              0,
              "#0d0887"
             ],
             [
              0.1111111111111111,
              "#46039f"
             ],
             [
              0.2222222222222222,
              "#7201a8"
             ],
             [
              0.3333333333333333,
              "#9c179e"
             ],
             [
              0.4444444444444444,
              "#bd3786"
             ],
             [
              0.5555555555555556,
              "#d8576b"
             ],
             [
              0.6666666666666666,
              "#ed7953"
             ],
             [
              0.7777777777777778,
              "#fb9f3a"
             ],
             [
              0.8888888888888888,
              "#fdca26"
             ],
             [
              1,
              "#f0f921"
             ]
            ],
            "type": "histogram2dcontour"
           }
          ],
          "mesh3d": [
           {
            "colorbar": {
             "outlinewidth": 0,
             "ticks": ""
            },
            "type": "mesh3d"
           }
          ],
          "parcoords": [
           {
            "line": {
             "colorbar": {
              "outlinewidth": 0,
              "ticks": ""
             }
            },
            "type": "parcoords"
           }
          ],
          "pie": [
           {
            "automargin": true,
            "type": "pie"
           }
          ],
          "scatter": [
           {
            "fillpattern": {
             "fillmode": "overlay",
             "size": 10,
             "solidity": 0.2
            },
            "type": "scatter"
           }
          ],
          "scatter3d": [
           {
            "line": {
             "colorbar": {
              "outlinewidth": 0,
              "ticks": ""
             }
            },
            "marker": {
             "colorbar": {
              "outlinewidth": 0,
              "ticks": ""
             }
            },
            "type": "scatter3d"
           }
          ],
          "scattercarpet": [
           {
            "marker": {
             "colorbar": {
              "outlinewidth": 0,
              "ticks": ""
             }
            },
            "type": "scattercarpet"
           }
          ],
          "scattergeo": [
           {
            "marker": {
             "colorbar": {
              "outlinewidth": 0,
              "ticks": ""
             }
            },
            "type": "scattergeo"
           }
          ],
          "scattergl": [
           {
            "marker": {
             "colorbar": {
              "outlinewidth": 0,
              "ticks": ""
             }
            },
            "type": "scattergl"
           }
          ],
          "scattermap": [
           {
            "marker": {
             "colorbar": {
              "outlinewidth": 0,
              "ticks": ""
             }
            },
            "type": "scattermap"
           }
          ],
          "scattermapbox": [
           {
            "marker": {
             "colorbar": {
              "outlinewidth": 0,
              "ticks": ""
             }
            },
            "type": "scattermapbox"
           }
          ],
          "scatterpolar": [
           {
            "marker": {
             "colorbar": {
              "outlinewidth": 0,
              "ticks": ""
             }
            },
            "type": "scatterpolar"
           }
          ],
          "scatterpolargl": [
           {
            "marker": {
             "colorbar": {
              "outlinewidth": 0,
              "ticks": ""
             }
            },
            "type": "scatterpolargl"
           }
          ],
          "scatterternary": [
           {
            "marker": {
             "colorbar": {
              "outlinewidth": 0,
              "ticks": ""
             }
            },
            "type": "scatterternary"
           }
          ],
          "surface": [
           {
            "colorbar": {
             "outlinewidth": 0,
             "ticks": ""
            },
            "colorscale": [
             [
              0,
              "#0d0887"
             ],
             [
              0.1111111111111111,
              "#46039f"
             ],
             [
              0.2222222222222222,
              "#7201a8"
             ],
             [
              0.3333333333333333,
              "#9c179e"
             ],
             [
              0.4444444444444444,
              "#bd3786"
             ],
             [
              0.5555555555555556,
              "#d8576b"
             ],
             [
              0.6666666666666666,
              "#ed7953"
             ],
             [
              0.7777777777777778,
              "#fb9f3a"
             ],
             [
              0.8888888888888888,
              "#fdca26"
             ],
             [
              1,
              "#f0f921"
             ]
            ],
            "type": "surface"
           }
          ],
          "table": [
           {
            "cells": {
             "fill": {
              "color": "#EBF0F8"
             },
             "line": {
              "color": "white"
             }
            },
            "header": {
             "fill": {
              "color": "#C8D4E3"
             },
             "line": {
              "color": "white"
             }
            },
            "type": "table"
           }
          ]
         },
         "layout": {
          "annotationdefaults": {
           "arrowcolor": "#2a3f5f",
           "arrowhead": 0,
           "arrowwidth": 1
          },
          "autotypenumbers": "strict",
          "coloraxis": {
           "colorbar": {
            "outlinewidth": 0,
            "ticks": ""
           }
          },
          "colorscale": {
           "diverging": [
            [
             0,
             "#8e0152"
            ],
            [
             0.1,
             "#c51b7d"
            ],
            [
             0.2,
             "#de77ae"
            ],
            [
             0.3,
             "#f1b6da"
            ],
            [
             0.4,
             "#fde0ef"
            ],
            [
             0.5,
             "#f7f7f7"
            ],
            [
             0.6,
             "#e6f5d0"
            ],
            [
             0.7,
             "#b8e186"
            ],
            [
             0.8,
             "#7fbc41"
            ],
            [
             0.9,
             "#4d9221"
            ],
            [
             1,
             "#276419"
            ]
           ],
           "sequential": [
            [
             0,
             "#0d0887"
            ],
            [
             0.1111111111111111,
             "#46039f"
            ],
            [
             0.2222222222222222,
             "#7201a8"
            ],
            [
             0.3333333333333333,
             "#9c179e"
            ],
            [
             0.4444444444444444,
             "#bd3786"
            ],
            [
             0.5555555555555556,
             "#d8576b"
            ],
            [
             0.6666666666666666,
             "#ed7953"
            ],
            [
             0.7777777777777778,
             "#fb9f3a"
            ],
            [
             0.8888888888888888,
             "#fdca26"
            ],
            [
             1,
             "#f0f921"
            ]
           ],
           "sequentialminus": [
            [
             0,
             "#0d0887"
            ],
            [
             0.1111111111111111,
             "#46039f"
            ],
            [
             0.2222222222222222,
             "#7201a8"
            ],
            [
             0.3333333333333333,
             "#9c179e"
            ],
            [
             0.4444444444444444,
             "#bd3786"
            ],
            [
             0.5555555555555556,
             "#d8576b"
            ],
            [
             0.6666666666666666,
             "#ed7953"
            ],
            [
             0.7777777777777778,
             "#fb9f3a"
            ],
            [
             0.8888888888888888,
             "#fdca26"
            ],
            [
             1,
             "#f0f921"
            ]
           ]
          },
          "colorway": [
           "#636efa",
           "#EF553B",
           "#00cc96",
           "#ab63fa",
           "#FFA15A",
           "#19d3f3",
           "#FF6692",
           "#B6E880",
           "#FF97FF",
           "#FECB52"
          ],
          "font": {
           "color": "#2a3f5f"
          },
          "geo": {
           "bgcolor": "white",
           "lakecolor": "white",
           "landcolor": "#E5ECF6",
           "showlakes": true,
           "showland": true,
           "subunitcolor": "white"
          },
          "hoverlabel": {
           "align": "left"
          },
          "hovermode": "closest",
          "mapbox": {
           "style": "light"
          },
          "paper_bgcolor": "white",
          "plot_bgcolor": "#E5ECF6",
          "polar": {
           "angularaxis": {
            "gridcolor": "white",
            "linecolor": "white",
            "ticks": ""
           },
           "bgcolor": "#E5ECF6",
           "radialaxis": {
            "gridcolor": "white",
            "linecolor": "white",
            "ticks": ""
           }
          },
          "scene": {
           "xaxis": {
            "backgroundcolor": "#E5ECF6",
            "gridcolor": "white",
            "gridwidth": 2,
            "linecolor": "white",
            "showbackground": true,
            "ticks": "",
            "zerolinecolor": "white"
           },
           "yaxis": {
            "backgroundcolor": "#E5ECF6",
            "gridcolor": "white",
            "gridwidth": 2,
            "linecolor": "white",
            "showbackground": true,
            "ticks": "",
            "zerolinecolor": "white"
           },
           "zaxis": {
            "backgroundcolor": "#E5ECF6",
            "gridcolor": "white",
            "gridwidth": 2,
            "linecolor": "white",
            "showbackground": true,
            "ticks": "",
            "zerolinecolor": "white"
           }
          },
          "shapedefaults": {
           "line": {
            "color": "#2a3f5f"
           }
          },
          "ternary": {
           "aaxis": {
            "gridcolor": "white",
            "linecolor": "white",
            "ticks": ""
           },
           "baxis": {
            "gridcolor": "white",
            "linecolor": "white",
            "ticks": ""
           },
           "bgcolor": "#E5ECF6",
           "caxis": {
            "gridcolor": "white",
            "linecolor": "white",
            "ticks": ""
           }
          },
          "title": {
           "x": 0.05
          },
          "xaxis": {
           "automargin": true,
           "gridcolor": "white",
           "linecolor": "white",
           "ticks": "",
           "title": {
            "standoff": 15
           },
           "zerolinecolor": "white",
           "zerolinewidth": 2
          },
          "yaxis": {
           "automargin": true,
           "gridcolor": "white",
           "linecolor": "white",
           "ticks": "",
           "title": {
            "standoff": 15
           },
           "zerolinecolor": "white",
           "zerolinewidth": 2
          }
         }
        },
        "title": {
         "text": "Mejor Frente No Dominado (Interactivo)"
        }
       }
      }
     },
     "metadata": {},
     "output_type": "display_data"
    },
    {
     "data": {
      "image/png": "[encoded data removed]",
      "text/plain": [
       "<Figure size 800x600 with 1 Axes>"
      ]
     },
     "metadata": {},
     "output_type": "display_data"
    }
   ],
   "source": [
    "import os\n",
    "import pickle\n",
    "import numpy as np\n",
    "from pymoo.indicators.hv import Hypervolume\n",
    "from pymoo.indicators.gd import GD\n",
    "from pymoo.indicators.igd import IGD\n",
    "from pymoo.util.nds.non_dominated_sorting import NonDominatedSorting\n",
    "from pymoo.visualization.scatter import Scatter\n",
    "\n",
    "# --- Configuración ---\n",
    "DIRECTORIO = \"./modificacion2\"  # directorio actual\n",
    "EXTENSION = \".pkl\"\n",
    "n_obj = 3\n",
    "\n",
    "# Leer todos los archivos .pkl del directorio\n",
    "archivos = [f for f in os.listdir(DIRECTORIO) if f.endswith(EXTENSION)]\n",
    "\n",
    "fitness_dict = {}\n",
    "for archivo in archivos:\n",
    "    with open(os.path.join(DIRECTORIO, archivo), \"rb\") as f:\n",
    "        data = pickle.load(f)\n",
    "        if isinstance(data, dict) and \"fitnessF\" in data:\n",
    "            fitness_dict[archivo] = np.array(data[\"fitnessF\"])\n",
    "\n",
    "# Unir todos los frentes para obtener el mejor frente no dominado global\n",
    "todos_fitness = np.vstack(list(fitness_dict.values()))\n",
    "\n",
    "# Obtener frontera de referencia no dominada\n",
    "nds = NonDominatedSorting()\n",
    "nd_idx = nds.do(todos_fitness, only_non_dominated_front=True)\n",
    "frontera_referencia = todos_fitness[nd_idx]\n",
    "\n",
    "# Calcular punto de referencia para HV\n",
    "ref_point = np.zeros(n_obj)\n",
    "\n",
    "# --- Cálculo de métricas ---\n",
    "print(f\"{'Archivo':<60} | {'HV':>8} | {'GD':>8} | {'IGD':>8}\")\n",
    "print(\"-\" * 90)\n",
    "\n",
    "hv_vals = []\n",
    "gd_vals = []\n",
    "igd_vals = []\n",
    "\n",
    "for nombre, fitness in fitness_dict.items():\n",
    "    hv = Hypervolume(ref_point=ref_point).do(fitness)\n",
    "    gd = GD(frontera_referencia).do(fitness)\n",
    "    igd = IGD(frontera_referencia).do(fitness)\n",
    "\n",
    "    hv_vals.append(hv)\n",
    "    gd_vals.append(gd)\n",
    "    igd_vals.append(igd)\n",
    "\n",
    "    print(f\"{nombre:<60} | {hv:8.4f} | {gd:8.4f} | {igd:8.4f}\")\n",
    "\n",
    "# --- Resultados estadísticos ---\n",
    "print(\"-\" * 90)\n",
    "print(f\"{'PROMEDIO':<60} | {np.mean(hv_vals):8.4f} | {np.mean(gd_vals):8.4f} | {np.mean(igd_vals):8.4f}\")\n",
    "print(f\"{'DESV.STD':<60} | {np.std(hv_vals):8.4f} | {np.std(gd_vals):8.4f} | {np.std(igd_vals):8.4f}\")\n",
    "\n",
    "# --- Gráfico del mejor frente no dominado ---\n",
    "plot = Scatter(title=\"Mejor Frente No Dominado (Referencia)\", s=5)\n",
    "plot.add(frontera_referencia * -1, label=\"Mejor frente no dominado\", color=\"red\", marker='o', s=5)\n",
    "plot.show()\n",
    "\n",
    "if n_obj > 2:\n",
    "    # Visualización interactiva en 3D usando Plotly\n",
    "    import plotly.graph_objs as go\n",
    "    import plotly.offline as pyo\n",
    "\n",
    "    trace = go.Scatter3d(\n",
    "        x=frontera_referencia[:, 0] * -1,\n",
    "        y=frontera_referencia[:, 1] * -1,\n",
    "        z=frontera_referencia[:, 2] * -1,\n",
    "        mode='markers',\n",
    "        marker=dict(size=4, color='red'),\n",
    "        name='Mejor frente no dominado'\n",
    "    )\n",
    "\n",
    "    layout = go.Layout(\n",
    "        title='Mejor Frente No Dominado (Interactivo)',\n",
    "        scene=dict(\n",
    "            xaxis_title='Objetivo 1',\n",
    "            yaxis_title='Objetivo 2',\n",
    "            zaxis_title='Objetivo 3'\n",
    "        )\n",
    "    )\n",
    "\n",
    "    fig = go.Figure(data=[trace], layout=layout)\n",
    "    pyo.iplot(fig)\n"
   ]
  }
 ],
 "metadata": {
  "kernelspec": {
   "display_name": "Python 3",
   "language": "python",
   "name": "python3"
  },
  "language_info": {
   "codemirror_mode": {
    "name": "ipython",
    "version": 3
   },
   "file_extension": ".py",
   "mimetype": "text/x-python",
   "name": "python",
   "nbconvert_exporter": "python",
   "pygments_lexer": "ipython3",
   "version": "3.12.4"
  }
 },
 "nbformat": 4,
 "nbformat_minor": 5
}
