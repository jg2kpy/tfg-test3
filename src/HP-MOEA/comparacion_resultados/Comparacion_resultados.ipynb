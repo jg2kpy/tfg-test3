{
 "cells": [
  {
   "cell_type": "markdown",
   "id": "605d3a32",
   "metadata": {},
   "source": [
    "# Comparación de resultados"
   ]
  },
  {
   "cell_type": "code",
   "execution_count": 27,
   "id": "d982a305",
   "metadata": {},
   "outputs": [
    {
     "name": "stdout",
     "output_type": "stream",
     "text": [
      "Archivo                                                      |       HV |       GD |      IGD\n",
      "------------------------------------------------------------------------------------------\n",
      "poblacion_final_NSGA-III_100_50_20250726_101222.pkl          |   0.4693 |   0.0053 |   0.0151\n",
      "poblacion_final_NSGA-III_100_50_20250726_102735.pkl          |   0.4735 |   0.0017 |   0.0132\n",
      "poblacion_final_NSGA-III_100_50_20250726_104302.pkl          |   0.4761 |   0.0013 |   0.0143\n",
      "poblacion_final_NSGA-III_100_50_20250726_105823.pkl          |   0.4760 |   0.0009 |   0.0134\n",
      "poblacion_final_NSGA-III_100_50_20250726_111329.pkl          |   0.4764 |   0.0010 |   0.0129\n",
      "poblacion_final_NSGA-III_100_50_20250726_112853.pkl          |   0.4785 |   0.0005 |   0.0132\n",
      "poblacion_final_NSGA-III_100_50_20250726_114429.pkl          |   0.4732 |   0.0016 |   0.0132\n",
      "poblacion_final_NSGA-III_100_50_20250726_115905.pkl          |   0.4756 |   0.0019 |   0.0139\n",
      "poblacion_final_NSGA-III_100_50_20250726_121350.pkl          |   0.4774 |   0.0011 |   0.0131\n",
      "poblacion_final_NSGA-III_100_50_20250726_122918.pkl          |   0.4726 |   0.0020 |   0.0140\n",
      "poblacion_final_NSGA-III_100_50_20250726_124550.pkl          |   0.4762 |   0.0011 |   0.0135\n",
      "poblacion_final_NSGA-III_100_50_20250726_130205.pkl          |   0.4766 |   0.0007 |   0.0120\n",
      "poblacion_final_NSGA-III_100_50_20250726_131729.pkl          |   0.4737 |   0.0010 |   0.0131\n",
      "poblacion_final_NSGA-III_100_50_20250726_133309.pkl          |   0.4736 |   0.0012 |   0.0136\n",
      "poblacion_final_NSGA-III_100_50_20250726_134919.pkl          |   0.4754 |   0.0005 |   0.0134\n",
      "poblacion_final_NSGA-III_100_50_20250726_140558.pkl          |   0.4759 |   0.0006 |   0.0133\n",
      "poblacion_final_NSGA-III_100_50_20250726_142213.pkl          |   0.4733 |   0.0022 |   0.0125\n",
      "poblacion_final_NSGA-III_100_50_20250726_143817.pkl          |   0.4763 |   0.0012 |   0.0130\n",
      "poblacion_final_NSGA-III_100_50_20250726_145325.pkl          |   0.4742 |   0.0015 |   0.0147\n",
      "poblacion_final_NSGA-III_100_50_20250726_150836.pkl          |   0.4770 |   0.0010 |   0.0131\n",
      "poblacion_final_NSGA-III_100_50_20250726_152358.pkl          |   0.4718 |   0.0008 |   0.0149\n",
      "poblacion_final_NSGA-III_100_50_20250726_153910.pkl          |   0.4715 |   0.0023 |   0.0145\n",
      "poblacion_final_NSGA-III_100_50_20250726_155426.pkl          |   0.4746 |   0.0012 |   0.0126\n",
      "poblacion_final_NSGA-III_100_50_20250726_160939.pkl          |   0.4743 |   0.0003 |   0.0176\n",
      "poblacion_final_NSGA-III_100_50_20250726_162449.pkl          |   0.4724 |   0.0010 |   0.0132\n",
      "poblacion_final_NSGA-III_100_50_20250726_164005.pkl          |   0.4693 |   0.0044 |   0.0139\n",
      "poblacion_final_NSGA-III_100_50_20250726_165510.pkl          |   0.4757 |   0.0007 |   0.0163\n",
      "poblacion_final_NSGA-III_100_50_20250726_171020.pkl          |   0.4752 |   0.0008 |   0.0139\n",
      "poblacion_final_NSGA-III_100_50_20250726_172527.pkl          |   0.4749 |   0.0005 |   0.0134\n",
      "poblacion_final_NSGA-III_100_50_20250726_174043.pkl          |   0.4731 |   0.0020 |   0.0128\n",
      "------------------------------------------------------------------------------------------\n",
      "PROMEDIO                                                     |   0.4745 |   0.0014 |   0.0137\n",
      "DESV.STD                                                     |   0.0022 |   0.0011 |   0.0011\n"
     ]
    },
    {
     "data": {
      "application/vnd.plotly.v1+json": {
       "config": {
        "linkText": "Export to plot.ly",
        "plotlyServerURL": "https://plot.ly",
        "showLink": false
       },
       "data": [
        {
         "marker": {
          "color": "red",
          "size": 4
         },
         "mode": "markers",
         "name": "Mejor frente no dominado",
         "type": "scatter3d",
         "x": {
          "bdata": "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",
          "dtype": "f8"
         },
         "y": {
          "bdata": "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",
          "dtype": "f8"
         },
         "z": {
          "bdata": "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",
          "dtype": "f8"
         }
        }
       ],
       "layout": {
        "scene": {
         "xaxis": {
          "title": {
           "text": "Objetivo 1"
          }
         },
         "yaxis": {
          "title": {
           "text": "Objetivo 2"
          }
         },
         "zaxis": {
          "title": {
           "text": "Objetivo 3"
          }
         }
        },
        "template": {
         "data": {
          "bar": [
           {
            "error_x": {
             "color": "#2a3f5f"
            },
            "error_y": {
             "color": "#2a3f5f"
            },
            "marker": {
             "line": {
              "color": "#E5ECF6",
              "width": 0.5
             },
             "pattern": {
              "fillmode": "overlay",
              "size": 10,
              "solidity": 0.2
             }
            },
            "type": "bar"
           }
          ],
          "barpolar": [
           {
            "marker": {
             "line": {
              "color": "#E5ECF6",
              "width": 0.5
             },
             "pattern": {
              "fillmode": "overlay",
              "size": 10,
              "solidity": 0.2
             }
            },
            "type": "barpolar"
           }
          ],
          "carpet": [
           {
            "aaxis": {
             "endlinecolor": "#2a3f5f",
             "gridcolor": "white",
             "linecolor": "white",
             "minorgridcolor": "white",
             "startlinecolor": "#2a3f5f"
            },
            "baxis": {
             "endlinecolor": "#2a3f5f",
             "gridcolor": "white",
             "linecolor": "white",
             "minorgridcolor": "white",
             "startlinecolor": "#2a3f5f"
            },
            "type": "carpet"
           }
          ],
          "choropleth": [
           {
            "colorbar": {
             "outlinewidth": 0,
             "ticks": ""
            },
            "type": "choropleth"
           }
          ],
          "contour": [
           {
            "colorbar": {
             "outlinewidth": 0,
             "ticks": ""
            },
            "colorscale": [
             [
              0,
              "#0d0887"
             ],
             [
              0.1111111111111111,
              "#46039f"
             ],
             [
              0.2222222222222222,
              "#7201a8"
             ],
             [
              0.3333333333333333,
              "#9c179e"
             ],
             [
              0.4444444444444444,
              "#bd3786"
             ],
             [
              0.5555555555555556,
              "#d8576b"
             ],
             [
              0.6666666666666666,
              "#ed7953"
             ],
             [
              0.7777777777777778,
              "#fb9f3a"
             ],
             [
              0.8888888888888888,
              "#fdca26"
             ],
             [
              1,
              "#f0f921"
             ]
            ],
            "type": "contour"
           }
          ],
          "contourcarpet": [
           {
            "colorbar": {
             "outlinewidth": 0,
             "ticks": ""
            },
            "type": "contourcarpet"
           }
          ],
          "heatmap": [
           {
            "colorbar": {
             "outlinewidth": 0,
             "ticks": ""
            },
            "colorscale": [
             [
              0,
              "#0d0887"
             ],
             [
              0.1111111111111111,
              "#46039f"
             ],
             [
              0.2222222222222222,
              "#7201a8"
             ],
             [
              0.3333333333333333,
              "#9c179e"
             ],
             [
              0.4444444444444444,
              "#bd3786"
             ],
             [
              0.5555555555555556,
              "#d8576b"
             ],
             [
              0.6666666666666666,
              "#ed7953"
             ],
             [
              0.7777777777777778,
              "#fb9f3a"
             ],
             [
              0.8888888888888888,
              "#fdca26"
             ],
             [
              1,
              "#f0f921"
             ]
            ],
            "type": "heatmap"
           }
          ],
          "histogram": [
           {
            "marker": {
             "pattern": {
              "fillmode": "overlay",
              "size": 10,
              "solidity": 0.2
             }
            },
            "type": "histogram"
           }
          ],
          "histogram2d": [
           {
            "colorbar": {
             "outlinewidth": 0,
             "ticks": ""
            },
            "colorscale": [
             [
              0,
              "#0d0887"
             ],
             [
              0.1111111111111111,
              "#46039f"
             ],
             [
              0.2222222222222222,
              "#7201a8"
             ],
             [
              0.3333333333333333,
              "#9c179e"
             ],
             [
              0.4444444444444444,
              "#bd3786"
             ],
             [
              0.5555555555555556,
              "#d8576b"
             ],
             [
              0.6666666666666666,
              "#ed7953"
             ],
             [
              0.7777777777777778,
              "#fb9f3a"
             ],
             [
              0.8888888888888888,
              "#fdca26"
             ],
             [
              1,
              "#f0f921"
             ]
            ],
            "type": "histogram2d"
           }
          ],
          "histogram2dcontour": [
           {
            "colorbar": {
             "outlinewidth": 0,
             "ticks": ""
            },
            "colorscale": [
             [
              0,
              "#0d0887"
             ],
             [
              0.1111111111111111,
              "#46039f"
             ],
             [
              0.2222222222222222,
              "#7201a8"
             ],
             [
              0.3333333333333333,
              "#9c179e"
             ],
             [
              0.4444444444444444,
              "#bd3786"
             ],
             [
              0.5555555555555556,
              "#d8576b"
             ],
             [
              0.6666666666666666,
              "#ed7953"
             ],
             [
              0.7777777777777778,
              "#fb9f3a"
             ],
             [
              0.8888888888888888,
              "#fdca26"
             ],
             [
              1,
              "#f0f921"
             ]
            ],
            "type": "histogram2dcontour"
           }
          ],
          "mesh3d": [
           {
            "colorbar": {
             "outlinewidth": 0,
             "ticks": ""
            },
            "type": "mesh3d"
           }
          ],
          "parcoords": [
           {
            "line": {
             "colorbar": {
              "outlinewidth": 0,
              "ticks": ""
             }
            },
            "type": "parcoords"
           }
          ],
          "pie": [
           {
            "automargin": true,
            "type": "pie"
           }
          ],
          "scatter": [
           {
            "fillpattern": {
             "fillmode": "overlay",
             "size": 10,
             "solidity": 0.2
            },
            "type": "scatter"
           }
          ],
          "scatter3d": [
           {
            "line": {
             "colorbar": {
              "outlinewidth": 0,
              "ticks": ""
             }
            },
            "marker": {
             "colorbar": {
              "outlinewidth": 0,
              "ticks": ""
             }
            },
            "type": "scatter3d"
           }
          ],
          "scattercarpet": [
           {
            "marker": {
             "colorbar": {
              "outlinewidth": 0,
              "ticks": ""
             }
            },
            "type": "scattercarpet"
           }
          ],
          "scattergeo": [
           {
            "marker": {
             "colorbar": {
              "outlinewidth": 0,
              "ticks": ""
             }
            },
            "type": "scattergeo"
           }
          ],
          "scattergl": [
           {
            "marker": {
             "colorbar": {
              "outlinewidth": 0,
              "ticks": ""
             }
            },
            "type": "scattergl"
           }
          ],
          "scattermap": [
           {
            "marker": {
             "colorbar": {
              "outlinewidth": 0,
              "ticks": ""
             }
            },
            "type": "scattermap"
           }
          ],
          "scattermapbox": [
           {
            "marker": {
             "colorbar": {
              "outlinewidth": 0,
              "ticks": ""
             }
            },
            "type": "scattermapbox"
           }
          ],
          "scatterpolar": [
           {
            "marker": {
             "colorbar": {
              "outlinewidth": 0,
              "ticks": ""
             }
            },
            "type": "scatterpolar"
           }
          ],
          "scatterpolargl": [
           {
            "marker": {
             "colorbar": {
              "outlinewidth": 0,
              "ticks": ""
             }
            },
            "type": "scatterpolargl"
           }
          ],
          "scatterternary": [
           {
            "marker": {
             "colorbar": {
              "outlinewidth": 0,
              "ticks": ""
             }
            },
            "type": "scatterternary"
           }
          ],
          "surface": [
           {
            "colorbar": {
             "outlinewidth": 0,
             "ticks": ""
            },
            "colorscale": [
             [
              0,
              "#0d0887"
             ],
             [
              0.1111111111111111,
              "#46039f"
             ],
             [
              0.2222222222222222,
              "#7201a8"
             ],
             [
              0.3333333333333333,
              "#9c179e"
             ],
             [
              0.4444444444444444,
              "#bd3786"
             ],
             [
              0.5555555555555556,
              "#d8576b"
             ],
             [
              0.6666666666666666,
              "#ed7953"
             ],
             [
              0.7777777777777778,
              "#fb9f3a"
             ],
             [
              0.8888888888888888,
              "#fdca26"
             ],
             [
              1,
              "#f0f921"
             ]
            ],
            "type": "surface"
           }
          ],
          "table": [
           {
            "cells": {
             "fill": {
              "color": "#EBF0F8"
             },
             "line": {
              "color": "white"
             }
            },
            "header": {
             "fill": {
              "color": "#C8D4E3"
             },
             "line": {
              "color": "white"
             }
            },
            "type": "table"
           }
          ]
         },
         "layout": {
          "annotationdefaults": {
           "arrowcolor": "#2a3f5f",
           "arrowhead": 0,
           "arrowwidth": 1
          },
          "autotypenumbers": "strict",
          "coloraxis": {
           "colorbar": {
            "outlinewidth": 0,
            "ticks": ""
           }
          },
          "colorscale": {
           "diverging": [
            [
             0,
             "#8e0152"
            ],
            [
             0.1,
             "#c51b7d"
            ],
            [
             0.2,
             "#de77ae"
            ],
            [
             0.3,
             "#f1b6da"
            ],
            [
             0.4,
             "#fde0ef"
            ],
            [
             0.5,
             "#f7f7f7"
            ],
            [
             0.6,
             "#e6f5d0"
            ],
            [
             0.7,
             "#b8e186"
            ],
            [
             0.8,
             "#7fbc41"
            ],
            [
             0.9,
             "#4d9221"
            ],
            [
             1,
             "#276419"
            ]
           ],
           "sequential": [
            [
             0,
             "#0d0887"
            ],
            [
             0.1111111111111111,
             "#46039f"
            ],
            [
             0.2222222222222222,
             "#7201a8"
            ],
            [
             0.3333333333333333,
             "#9c179e"
            ],
            [
             0.4444444444444444,
             "#bd3786"
            ],
            [
             0.5555555555555556,
             "#d8576b"
            ],
            [
             0.6666666666666666,
             "#ed7953"
            ],
            [
             0.7777777777777778,
             "#fb9f3a"
            ],
            [
             0.8888888888888888,
             "#fdca26"
            ],
            [
             1,
             "#f0f921"
            ]
           ],
           "sequentialminus": [
            [
             0,
             "#0d0887"
            ],
            [
             0.1111111111111111,
             "#46039f"
            ],
            [
             0.2222222222222222,
             "#7201a8"
            ],
            [
             0.3333333333333333,
             "#9c179e"
            ],
            [
             0.4444444444444444,
             "#bd3786"
            ],
            [
             0.5555555555555556,
             "#d8576b"
            ],
            [
             0.6666666666666666,
             "#ed7953"
            ],
            [
             0.7777777777777778,
             "#fb9f3a"
            ],
            [
             0.8888888888888888,
             "#fdca26"
            ],
            [
             1,
             "#f0f921"
            ]
           ]
          },
          "colorway": [
           "#636efa",
           "#EF553B",
           "#00cc96",
           "#ab63fa",
           "#FFA15A",
           "#19d3f3",
           "#FF6692",
           "#B6E880",
           "#FF97FF",
           "#FECB52"
          ],
          "font": {
           "color": "#2a3f5f"
          },
          "geo": {
           "bgcolor": "white",
           "lakecolor": "white",
           "landcolor": "#E5ECF6",
           "showlakes": true,
           "showland": true,
           "subunitcolor": "white"
          },
          "hoverlabel": {
           "align": "left"
          },
          "hovermode": "closest",
          "mapbox": {
           "style": "light"
          },
          "paper_bgcolor": "white",
          "plot_bgcolor": "#E5ECF6",
          "polar": {
           "angularaxis": {
            "gridcolor": "white",
            "linecolor": "white",
            "ticks": ""
           },
           "bgcolor": "#E5ECF6",
           "radialaxis": {
            "gridcolor": "white",
            "linecolor": "white",
            "ticks": ""
           }
          },
          "scene": {
           "xaxis": {
            "backgroundcolor": "#E5ECF6",
            "gridcolor": "white",
            "gridwidth": 2,
            "linecolor": "white",
            "showbackground": true,
            "ticks": "",
            "zerolinecolor": "white"
           },
           "yaxis": {
            "backgroundcolor": "#E5ECF6",
            "gridcolor": "white",
            "gridwidth": 2,
            "linecolor": "white",
            "showbackground": true,
            "ticks": "",
            "zerolinecolor": "white"
           },
           "zaxis": {
            "backgroundcolor": "#E5ECF6",
            "gridcolor": "white",
            "gridwidth": 2,
            "linecolor": "white",
            "showbackground": true,
            "ticks": "",
            "zerolinecolor": "white"
           }
          },
          "shapedefaults": {
           "line": {
            "color": "#2a3f5f"
           }
          },
          "ternary": {
           "aaxis": {
            "gridcolor": "white",
            "linecolor": "white",
            "ticks": ""
           },
           "baxis": {
            "gridcolor": "white",
            "linecolor": "white",
            "ticks": ""
           },
           "bgcolor": "#E5ECF6",
           "caxis": {
            "gridcolor": "white",
            "linecolor": "white",
            "ticks": ""
           }
          },
          "title": {
           "x": 0.05
          },
          "xaxis": {
           "automargin": true,
           "gridcolor": "white",
           "linecolor": "white",
           "ticks": "",
           "title": {
            "standoff": 15
           },
           "zerolinecolor": "white",
           "zerolinewidth": 2
          },
          "yaxis": {
           "automargin": true,
           "gridcolor": "white",
           "linecolor": "white",
           "ticks": "",
           "title": {
            "standoff": 15
           },
           "zerolinecolor": "white",
           "zerolinewidth": 2
          }
         }
        },
        "title": {
         "text": "Mejor Frente No Dominado (Interactivo)"
        }
       }
      }
     },
     "metadata": {},
     "output_type": "display_data"
    },
    {
     "data": {
      "image/png": "[encoded data removed]",
      "text/plain": [
       "<Figure size 800x600 with 1 Axes>"
      ]
     },
     "metadata": {},
     "output_type": "display_data"
    }
   ],
   "source": [
    "import os\n",
    "import pickle\n",
    "import numpy as np\n",
    "from pymoo.indicators.hv import Hypervolume\n",
    "from pymoo.indicators.gd import GD\n",
    "from pymoo.indicators.igd import IGD\n",
    "from pymoo.util.nds.non_dominated_sorting import NonDominatedSorting\n",
    "from pymoo.visualization.scatter import Scatter\n",
    "\n",
    "# --- Configuración ---\n",
    "DIRECTORIO = \"./modificacion2\"  # directorio actual\n",
    "EXTENSION = \".pkl\"\n",
    "n_obj = 3\n",
    "\n",
    "# Leer todos los archivos .pkl del directorio\n",
    "archivos = [f for f in os.listdir(DIRECTORIO) if f.endswith(EXTENSION)]\n",
    "\n",
    "fitness_dict = {}\n",
    "for archivo in archivos:\n",
    "    with open(os.path.join(DIRECTORIO, archivo), \"rb\") as f:\n",
    "        data = pickle.load(f)\n",
    "        if isinstance(data, dict) and \"fitnessF\" in data:\n",
    "            fitness_dict[archivo] = np.array(data[\"fitnessF\"])\n",
    "\n",
    "# Unir todos los frentes para obtener el mejor frente no dominado global\n",
    "todos_fitness = np.vstack(list(fitness_dict.values()))\n",
    "\n",
    "# Obtener frontera de referencia no dominada\n",
    "nds = NonDominatedSorting()\n",
    "nd_idx = nds.do(todos_fitness, only_non_dominated_front=True)\n",
    "frontera_referencia = todos_fitness[nd_idx]\n",
    "\n",
    "# Calcular punto de referencia para HV\n",
    "ref_point = np.zeros(n_obj)\n",
    "\n",
    "# --- Cálculo de métricas ---\n",
    "print(f\"{'Archivo':<60} | {'HV':>8} | {'GD':>8} | {'IGD':>8}\")\n",
    "print(\"-\" * 90)\n",
    "\n",
    "hv_vals = []\n",
    "gd_vals = []\n",
    "igd_vals = []\n",
    "\n",
    "for nombre, fitness in fitness_dict.items():\n",
    "    hv = Hypervolume(ref_point=ref_point).do(fitness)\n",
    "    gd = GD(frontera_referencia).do(fitness)\n",
    "    igd = IGD(frontera_referencia).do(fitness)\n",
    "\n",
    "    hv_vals.append(hv)\n",
    "    gd_vals.append(gd)\n",
    "    igd_vals.append(igd)\n",
    "\n",
    "    print(f\"{nombre:<60} | {hv:8.4f} | {gd:8.4f} | {igd:8.4f}\")\n",
    "\n",
    "# --- Resultados estadísticos ---\n",
    "print(\"-\" * 90)\n",
    "print(f\"{'PROMEDIO':<60} | {np.mean(hv_vals):8.4f} | {np.mean(gd_vals):8.4f} | {np.mean(igd_vals):8.4f}\")\n",
    "print(f\"{'DESV.STD':<60} | {np.std(hv_vals):8.4f} | {np.std(gd_vals):8.4f} | {np.std(igd_vals):8.4f}\")\n",
    "\n",
    "# --- Gráfico del mejor frente no dominado ---\n",
    "plot = Scatter(title=\"Mejor Frente No Dominado (Referencia)\", s=5)\n",
    "plot.add(frontera_referencia * -1, label=\"Mejor frente no dominado\", color=\"red\", marker='o', s=5)\n",
    "plot.show()\n",
    "\n",
    "if n_obj > 2:\n",
    "    # Visualización interactiva en 3D usando Plotly\n",
    "    import plotly.graph_objs as go\n",
    "    import plotly.offline as pyo\n",
    "\n",
    "    trace = go.Scatter3d(\n",
    "        x=frontera_referencia[:, 0] * -1,\n",
    "        y=frontera_referencia[:, 1] * -1,\n",
    "        z=frontera_referencia[:, 2] * -1,\n",
    "        mode='markers',\n",
    "        marker=dict(size=4, color='red'),\n",
    "        name='Mejor frente no dominado'\n",
    "    )\n",
    "\n",
    "    layout = go.Layout(\n",
    "        title='Mejor Frente No Dominado (Interactivo)',\n",
    "        scene=dict(\n",
    "            xaxis_title='Objetivo 1',\n",
    "            yaxis_title='Objetivo 2',\n",
    "            zaxis_title='Objetivo 3'\n",
    "        )\n",
    "    )\n",
    "\n",
    "    fig = go.Figure(data=[trace], layout=layout)\n",
    "    pyo.iplot(fig)\n"
   ]
  }
 ],
 "metadata": {
  "kernelspec": {
   "display_name": "Python 3",
   "language": "python",
   "name": "python3"
  },
  "language_info": {
   "codemirror_mode": {
    "name": "ipython",
    "version": 3
   },
   "file_extension": ".py",
   "mimetype": "text/x-python",
   "name": "python",
   "nbconvert_exporter": "python",
   "pygments_lexer": "ipython3",
   "version": "3.12.4"
  }
 },
 "nbformat": 4,
 "nbformat_minor": 5
}
