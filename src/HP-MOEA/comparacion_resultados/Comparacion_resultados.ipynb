{
 "cells": [
  {
   "cell_type": "markdown",
   "id": "605d3a32",
   "metadata": {},
   "source": [
    "# Comparación de resultados"
   ]
  },
  {
   "cell_type": "code",
   "execution_count": 1,
   "id": "d982a305",
   "metadata": {},
   "outputs": [
    {
     "name": "stdout",
     "output_type": "stream",
     "text": [
      "Archivo                                                      |       HV |       GD |      IGD\n",
      "------------------------------------------------------------------------------------------\n",
      "poblacion_final_NSGA-III_100_50_20250723_224204.pkl          |   0.4743 |   0.0000 |   0.0000\n",
      "------------------------------------------------------------------------------------------\n",
      "PROMEDIO                                                     |   0.4743 |   0.0000 |   0.0000\n",
      "DESV.STD                                                     |   0.0000 |   0.0000 |   0.0000\n"
     ]
    },
    {
     "data": {
      "application/vnd.plotly.v1+json": {
       "config": {
        "linkText": "Export to plot.ly",
        "plotlyServerURL": "https://plot.ly",
        "showLink": false
       },
       "data": [
        {
         "marker": {
          "color": "red",
          "size": 4
         },
         "mode": "markers",
         "name": "Mejor frente no dominado",
         "type": "scatter3d",
         "x": {
          "bdata": "BQU96AZ91j+BaBgDIsvoPzFKDwfyaes/foFK3dg64D8duVrRkZjhP8HWKjs0SuI/MYK9HrcP5j/npTMRtRjnP+50WfQMf9o/5Lfo4eukzj9G5i8IlQngP4TK5hF98+I/BS0FaZ4/7D+bA75CYQDnP2o/51Gj6+A/yKimPHgU3j+fn5ILm2ToP5ChTfrBW9w/JfQ2jCo14j/xeHkIGfLUPwZ87mWPgcM/4mPeYh6I5j8noNhb/sbkP2hoOdTc390/v6o7S1vp6j9VHSOZwLvXP3aTURGXANk/vfJJlBZg5T83kAq8HbjRP8ruMqJWwOM/TsKhTStn6D+Q9TkoTrLkP45BZVe8k+k/zD9UBeIn5D/15SWN5iPVPwAAAAAAAPA/AjlxB5czyz+YOXBP6ULuPz1GTEuF9ug/+ChNIDTX6z8=",
          "dtype": "f8"
         },
         "y": {
          "bdata": "7Vb90vY65j9LTpoyFKSmP1EKRmJKcqU/s5fCAFZw4T9QlUbE4xfYP1GQWnQjGdM/QgNMmOGP0j8daVBlojOrP3pZsPDNTeU/5Fri5eJH7D/PlzzsQ5faP6vBcwSKtto/gN56u0mWsD/pcerm6YTAP7rIbc7ymN0/MqbhTGg93z+qTHRmI1zNP89shKs7X+I/cVFs3wcN4D/EgX4ymrjoPyMZ03AmtO4/Yyb3qIhByz9vGDr2GzfbP5/I8+IEcuQ/b55OCPXdyD8fd8oNhtHnPx0+mCSa++I/VGIHaIwy1z/NletnEkfpP7iuygFdrdU/xlgXdsPQ0T+04QletJLGP0lr2Mo4PrI/HcSsNnOi0D+I99NAgiPmPwAAAAAAAACAiKigk2MC7D9YqbP5W6aYP5VeFix8c8M/J4T6bgwRwj8=",
          "dtype": "f8"
         },
         "z": {
          "bdata": "L+9XYQUr6z+hqKJkTlbtP0iWuCm1eec/VbIWBJdM6D+9u8kaVJjtPwt946hCWO8/Kb0FmLwF6D8AAAAAAADwPz86LdmlVeg/O5jTyreU6D+vc/aCjsDuP4s1gMXxBug/lzyH8RzG4z/drnF9irntPyZLukgHQes/fpDuMau47T/fbOru5ffjP6+zK82uNOs/YntfKbrh5D9hHqWXsnzoP0wn3LuODek/AstP+xHA6j/bSHtfKbrhP2Vpo3hgteQ/MCVq4PPM2j/Q+KYBuiTmP2+dRs90l+0/tMzW5g9Q5D9NWFro8CjrPyBXOeFsDOs/hf6QkNrY4D+egx/DMsHvP3o0LYNpweo/hZ39zlCW7T8hB7rBjazsP7o24EPqeNI/t5voBTmu6j/dcEAPTYjfPyr6UzGbEOg/Ijap57Ot3j8=",
          "dtype": "f8"
         }
        }
       ],
       "layout": {
        "scene": {
         "xaxis": {
          "title": {
           "text": "Objetivo 1"
          }
         },
         "yaxis": {
          "title": {
           "text": "Objetivo 2"
          }
         },
         "zaxis": {
          "title": {
           "text": "Objetivo 3"
          }
         }
        },
        "template": {
         "data": {
          "bar": [
           {
            "error_x": {
             "color": "#2a3f5f"
            },
            "error_y": {
             "color": "#2a3f5f"
            },
            "marker": {
             "line": {
              "color": "#E5ECF6",
              "width": 0.5
             },
             "pattern": {
              "fillmode": "overlay",
              "size": 10,
              "solidity": 0.2
             }
            },
            "type": "bar"
           }
          ],
          "barpolar": [
           {
            "marker": {
             "line": {
              "color": "#E5ECF6",
              "width": 0.5
             },
             "pattern": {
              "fillmode": "overlay",
              "size": 10,
              "solidity": 0.2
             }
            },
            "type": "barpolar"
           }
          ],
          "carpet": [
           {
            "aaxis": {
             "endlinecolor": "#2a3f5f",
             "gridcolor": "white",
             "linecolor": "white",
             "minorgridcolor": "white",
             "startlinecolor": "#2a3f5f"
            },
            "baxis": {
             "endlinecolor": "#2a3f5f",
             "gridcolor": "white",
             "linecolor": "white",
             "minorgridcolor": "white",
             "startlinecolor": "#2a3f5f"
            },
            "type": "carpet"
           }
          ],
          "choropleth": [
           {
            "colorbar": {
             "outlinewidth": 0,
             "ticks": ""
            },
            "type": "choropleth"
           }
          ],
          "contour": [
           {
            "colorbar": {
             "outlinewidth": 0,
             "ticks": ""
            },
            "colorscale": [
             [
              0,
              "#0d0887"
             ],
             [
              0.1111111111111111,
              "#46039f"
             ],
             [
              0.2222222222222222,
              "#7201a8"
             ],
             [
              0.3333333333333333,
              "#9c179e"
             ],
             [
              0.4444444444444444,
              "#bd3786"
             ],
             [
              0.5555555555555556,
              "#d8576b"
             ],
             [
              0.6666666666666666,
              "#ed7953"
             ],
             [
              0.7777777777777778,
              "#fb9f3a"
             ],
             [
              0.8888888888888888,
              "#fdca26"
             ],
             [
              1,
              "#f0f921"
             ]
            ],
            "type": "contour"
           }
          ],
          "contourcarpet": [
           {
            "colorbar": {
             "outlinewidth": 0,
             "ticks": ""
            },
            "type": "contourcarpet"
           }
          ],
          "heatmap": [
           {
            "colorbar": {
             "outlinewidth": 0,
             "ticks": ""
            },
            "colorscale": [
             [
              0,
              "#0d0887"
             ],
             [
              0.1111111111111111,
              "#46039f"
             ],
             [
              0.2222222222222222,
              "#7201a8"
             ],
             [
              0.3333333333333333,
              "#9c179e"
             ],
             [
              0.4444444444444444,
              "#bd3786"
             ],
             [
              0.5555555555555556,
              "#d8576b"
             ],
             [
              0.6666666666666666,
              "#ed7953"
             ],
             [
              0.7777777777777778,
              "#fb9f3a"
             ],
             [
              0.8888888888888888,
              "#fdca26"
             ],
             [
              1,
              "#f0f921"
             ]
            ],
            "type": "heatmap"
           }
          ],
          "histogram": [
           {
            "marker": {
             "pattern": {
              "fillmode": "overlay",
              "size": 10,
              "solidity": 0.2
             }
            },
            "type": "histogram"
           }
          ],
          "histogram2d": [
           {
            "colorbar": {
             "outlinewidth": 0,
             "ticks": ""
            },
            "colorscale": [
             [
              0,
              "#0d0887"
             ],
             [
              0.1111111111111111,
              "#46039f"
             ],
             [
              0.2222222222222222,
              "#7201a8"
             ],
             [
              0.3333333333333333,
              "#9c179e"
             ],
             [
              0.4444444444444444,
              "#bd3786"
             ],
             [
              0.5555555555555556,
              "#d8576b"
             ],
             [
              0.6666666666666666,
              "#ed7953"
             ],
             [
              0.7777777777777778,
              "#fb9f3a"
             ],
             [
              0.8888888888888888,
              "#fdca26"
             ],
             [
              1,
              "#f0f921"
             ]
            ],
            "type": "histogram2d"
           }
          ],
          "histogram2dcontour": [
           {
            "colorbar": {
             "outlinewidth": 0,
             "ticks": ""
            },
            "colorscale": [
             [
              0,
              "#0d0887"
             ],
             [
              0.1111111111111111,
              "#46039f"
             ],
             [
              0.2222222222222222,
              "#7201a8"
             ],
             [
              0.3333333333333333,
              "#9c179e"
             ],
             [
              0.4444444444444444,
              "#bd3786"
             ],
             [
              0.5555555555555556,
              "#d8576b"
             ],
             [
              0.6666666666666666,
              "#ed7953"
             ],
             [
              0.7777777777777778,
              "#fb9f3a"
             ],
             [
              0.8888888888888888,
              "#fdca26"
             ],
             [
              1,
              "#f0f921"
             ]
            ],
            "type": "histogram2dcontour"
           }
          ],
          "mesh3d": [
           {
            "colorbar": {
             "outlinewidth": 0,
             "ticks": ""
            },
            "type": "mesh3d"
           }
          ],
          "parcoords": [
           {
            "line": {
             "colorbar": {
              "outlinewidth": 0,
              "ticks": ""
             }
            },
            "type": "parcoords"
           }
          ],
          "pie": [
           {
            "automargin": true,
            "type": "pie"
           }
          ],
          "scatter": [
           {
            "fillpattern": {
             "fillmode": "overlay",
             "size": 10,
             "solidity": 0.2
            },
            "type": "scatter"
           }
          ],
          "scatter3d": [
           {
            "line": {
             "colorbar": {
              "outlinewidth": 0,
              "ticks": ""
             }
            },
            "marker": {
             "colorbar": {
              "outlinewidth": 0,
              "ticks": ""
             }
            },
            "type": "scatter3d"
           }
          ],
          "scattercarpet": [
           {
            "marker": {
             "colorbar": {
              "outlinewidth": 0,
              "ticks": ""
             }
            },
            "type": "scattercarpet"
           }
          ],
          "scattergeo": [
           {
            "marker": {
             "colorbar": {
              "outlinewidth": 0,
              "ticks": ""
             }
            },
            "type": "scattergeo"
           }
          ],
          "scattergl": [
           {
            "marker": {
             "colorbar": {
              "outlinewidth": 0,
              "ticks": ""
             }
            },
            "type": "scattergl"
           }
          ],
          "scattermap": [
           {
            "marker": {
             "colorbar": {
              "outlinewidth": 0,
              "ticks": ""
             }
            },
            "type": "scattermap"
           }
          ],
          "scattermapbox": [
           {
            "marker": {
             "colorbar": {
              "outlinewidth": 0,
              "ticks": ""
             }
            },
            "type": "scattermapbox"
           }
          ],
          "scatterpolar": [
           {
            "marker": {
             "colorbar": {
              "outlinewidth": 0,
              "ticks": ""
             }
            },
            "type": "scatterpolar"
           }
          ],
          "scatterpolargl": [
           {
            "marker": {
             "colorbar": {
              "outlinewidth": 0,
              "ticks": ""
             }
            },
            "type": "scatterpolargl"
           }
          ],
          "scatterternary": [
           {
            "marker": {
             "colorbar": {
              "outlinewidth": 0,
              "ticks": ""
             }
            },
            "type": "scatterternary"
           }
          ],
          "surface": [
           {
            "colorbar": {
             "outlinewidth": 0,
             "ticks": ""
            },
            "colorscale": [
             [
              0,
              "#0d0887"
             ],
             [
              0.1111111111111111,
              "#46039f"
             ],
             [
              0.2222222222222222,
              "#7201a8"
             ],
             [
              0.3333333333333333,
              "#9c179e"
             ],
             [
              0.4444444444444444,
              "#bd3786"
             ],
             [
              0.5555555555555556,
              "#d8576b"
             ],
             [
              0.6666666666666666,
              "#ed7953"
             ],
             [
              0.7777777777777778,
              "#fb9f3a"
             ],
             [
              0.8888888888888888,
              "#fdca26"
             ],
             [
              1,
              "#f0f921"
             ]
            ],
            "type": "surface"
           }
          ],
          "table": [
           {
            "cells": {
             "fill": {
              "color": "#EBF0F8"
             },
             "line": {
              "color": "white"
             }
            },
            "header": {
             "fill": {
              "color": "#C8D4E3"
             },
             "line": {
              "color": "white"
             }
            },
            "type": "table"
           }
          ]
         },
         "layout": {
          "annotationdefaults": {
           "arrowcolor": "#2a3f5f",
           "arrowhead": 0,
           "arrowwidth": 1
          },
          "autotypenumbers": "strict",
          "coloraxis": {
           "colorbar": {
            "outlinewidth": 0,
            "ticks": ""
           }
          },
          "colorscale": {
           "diverging": [
            [
             0,
             "#8e0152"
            ],
            [
             0.1,
             "#c51b7d"
            ],
            [
             0.2,
             "#de77ae"
            ],
            [
             0.3,
             "#f1b6da"
            ],
            [
             0.4,
             "#fde0ef"
            ],
            [
             0.5,
             "#f7f7f7"
            ],
            [
             0.6,
             "#e6f5d0"
            ],
            [
             0.7,
             "#b8e186"
            ],
            [
             0.8,
             "#7fbc41"
            ],
            [
             0.9,
             "#4d9221"
            ],
            [
             1,
             "#276419"
            ]
           ],
           "sequential": [
            [
             0,
             "#0d0887"
            ],
            [
             0.1111111111111111,
             "#46039f"
            ],
            [
             0.2222222222222222,
             "#7201a8"
            ],
            [
             0.3333333333333333,
             "#9c179e"
            ],
            [
             0.4444444444444444,
             "#bd3786"
            ],
            [
             0.5555555555555556,
             "#d8576b"
            ],
            [
             0.6666666666666666,
             "#ed7953"
            ],
            [
             0.7777777777777778,
             "#fb9f3a"
            ],
            [
             0.8888888888888888,
             "#fdca26"
            ],
            [
             1,
             "#f0f921"
            ]
           ],
           "sequentialminus": [
            [
             0,
             "#0d0887"
            ],
            [
             0.1111111111111111,
             "#46039f"
            ],
            [
             0.2222222222222222,
             "#7201a8"
            ],
            [
             0.3333333333333333,
             "#9c179e"
            ],
            [
             0.4444444444444444,
             "#bd3786"
            ],
            [
             0.5555555555555556,
             "#d8576b"
            ],
            [
             0.6666666666666666,
             "#ed7953"
            ],
            [
             0.7777777777777778,
             "#fb9f3a"
            ],
            [
             0.8888888888888888,
             "#fdca26"
            ],
            [
             1,
             "#f0f921"
            ]
           ]
          },
          "colorway": [
           "#636efa",
           "#EF553B",
           "#00cc96",
           "#ab63fa",
           "#FFA15A",
           "#19d3f3",
           "#FF6692",
           "#B6E880",
           "#FF97FF",
           "#FECB52"
          ],
          "font": {
           "color": "#2a3f5f"
          },
          "geo": {
           "bgcolor": "white",
           "lakecolor": "white",
           "landcolor": "#E5ECF6",
           "showlakes": true,
           "showland": true,
           "subunitcolor": "white"
          },
          "hoverlabel": {
           "align": "left"
          },
          "hovermode": "closest",
          "mapbox": {
           "style": "light"
          },
          "paper_bgcolor": "white",
          "plot_bgcolor": "#E5ECF6",
          "polar": {
           "angularaxis": {
            "gridcolor": "white",
            "linecolor": "white",
            "ticks": ""
           },
           "bgcolor": "#E5ECF6",
           "radialaxis": {
            "gridcolor": "white",
            "linecolor": "white",
            "ticks": ""
           }
          },
          "scene": {
           "xaxis": {
            "backgroundcolor": "#E5ECF6",
            "gridcolor": "white",
            "gridwidth": 2,
            "linecolor": "white",
            "showbackground": true,
            "ticks": "",
            "zerolinecolor": "white"
           },
           "yaxis": {
            "backgroundcolor": "#E5ECF6",
            "gridcolor": "white",
            "gridwidth": 2,
            "linecolor": "white",
            "showbackground": true,
            "ticks": "",
            "zerolinecolor": "white"
           },
           "zaxis": {
            "backgroundcolor": "#E5ECF6",
            "gridcolor": "white",
            "gridwidth": 2,
            "linecolor": "white",
            "showbackground": true,
            "ticks": "",
            "zerolinecolor": "white"
           }
          },
          "shapedefaults": {
           "line": {
            "color": "#2a3f5f"
           }
          },
          "ternary": {
           "aaxis": {
            "gridcolor": "white",
            "linecolor": "white",
            "ticks": ""
           },
           "baxis": {
            "gridcolor": "white",
            "linecolor": "white",
            "ticks": ""
           },
           "bgcolor": "#E5ECF6",
           "caxis": {
            "gridcolor": "white",
            "linecolor": "white",
            "ticks": ""
           }
          },
          "title": {
           "x": 0.05
          },
          "xaxis": {
           "automargin": true,
           "gridcolor": "white",
           "linecolor": "white",
           "ticks": "",
           "title": {
            "standoff": 15
           },
           "zerolinecolor": "white",
           "zerolinewidth": 2
          },
          "yaxis": {
           "automargin": true,
           "gridcolor": "white",
           "linecolor": "white",
           "ticks": "",
           "title": {
            "standoff": 15
           },
           "zerolinecolor": "white",
           "zerolinewidth": 2
          }
         }
        },
        "title": {
         "text": "Mejor Frente No Dominado (Interactivo)"
        }
       }
      }
     },
     "metadata": {},
     "output_type": "display_data"
    },
    {
     "data": {
      "image/png": "[encoded data removed]",
      "text/plain": [
       "<Figure size 800x600 with 1 Axes>"
      ]
     },
     "metadata": {},
     "output_type": "display_data"
    }
   ],
   "source": [
    "import os\n",
    "import pickle\n",
    "import numpy as np\n",
    "from pymoo.indicators.hv import Hypervolume\n",
    "from pymoo.indicators.gd import GD\n",
    "from pymoo.indicators.igd import IGD\n",
    "from pymoo.util.nds.non_dominated_sorting import NonDominatedSorting\n",
    "from pymoo.visualization.scatter import Scatter\n",
    "\n",
    "# --- Configuración ---\n",
    "DIRECTORIO = \"./modificacion2\"  # directorio actual\n",
    "EXTENSION = \".pkl\"\n",
    "n_obj = 3\n",
    "\n",
    "# Leer todos los archivos .pkl del directorio\n",
    "archivos = [f for f in os.listdir(DIRECTORIO) if f.endswith(EXTENSION)]\n",
    "\n",
    "fitness_dict = {}\n",
    "for archivo in archivos:\n",
    "    with open(os.path.join(DIRECTORIO, archivo), \"rb\") as f:\n",
    "        data = pickle.load(f)\n",
    "        if isinstance(data, dict) and \"fitnessF\" in data:\n",
    "            fitness_dict[archivo] = np.array(data[\"fitnessF\"])\n",
    "\n",
    "# Unir todos los frentes para obtener el mejor frente no dominado global\n",
    "todos_fitness = np.vstack(list(fitness_dict.values()))\n",
    "\n",
    "# Obtener frontera de referencia no dominada\n",
    "nds = NonDominatedSorting()\n",
    "nd_idx = nds.do(todos_fitness, only_non_dominated_front=True)\n",
    "frontera_referencia = todos_fitness[nd_idx]\n",
    "\n",
    "# Calcular punto de referencia para HV\n",
    "ref_point = np.zeros(n_obj)\n",
    "\n",
    "# --- Cálculo de métricas ---\n",
    "print(f\"{'Archivo':<60} | {'HV':>8} | {'GD':>8} | {'IGD':>8}\")\n",
    "print(\"-\" * 90)\n",
    "\n",
    "hv_vals = []\n",
    "gd_vals = []\n",
    "igd_vals = []\n",
    "\n",
    "for nombre, fitness in fitness_dict.items():\n",
    "    hv = Hypervolume(ref_point=ref_point).do(fitness)\n",
    "    gd = GD(frontera_referencia).do(fitness)\n",
    "    igd = IGD(frontera_referencia).do(fitness)\n",
    "\n",
    "    hv_vals.append(hv)\n",
    "    gd_vals.append(gd)\n",
    "    igd_vals.append(igd)\n",
    "\n",
    "    print(f\"{nombre:<60} | {hv:8.4f} | {gd:8.4f} | {igd:8.4f}\")\n",
    "\n",
    "# --- Resultados estadísticos ---\n",
    "print(\"-\" * 90)\n",
    "print(f\"{'PROMEDIO':<60} | {np.mean(hv_vals):8.4f} | {np.mean(gd_vals):8.4f} | {np.mean(igd_vals):8.4f}\")\n",
    "print(f\"{'DESV.STD':<60} | {np.std(hv_vals):8.4f} | {np.std(gd_vals):8.4f} | {np.std(igd_vals):8.4f}\")\n",
    "\n",
    "# --- Gráfico del mejor frente no dominado ---\n",
    "plot = Scatter(title=\"Mejor Frente No Dominado (Referencia)\", s=5)\n",
    "plot.add(frontera_referencia * -1, label=\"Mejor frente no dominado\", color=\"red\", marker='o', s=5)\n",
    "plot.show()\n",
    "\n",
    "if n_obj > 2:\n",
    "    # Visualización interactiva en 3D usando Plotly\n",
    "    import plotly.graph_objs as go\n",
    "    import plotly.offline as pyo\n",
    "\n",
    "    trace = go.Scatter3d(\n",
    "        x=frontera_referencia[:, 0] * -1,\n",
    "        y=frontera_referencia[:, 1] * -1,\n",
    "        z=frontera_referencia[:, 2] * -1,\n",
    "        mode='markers',\n",
    "        marker=dict(size=4, color='red'),\n",
    "        name='Mejor frente no dominado'\n",
    "    )\n",
    "\n",
    "    layout = go.Layout(\n",
    "        title='Mejor Frente No Dominado (Interactivo)',\n",
    "        scene=dict(\n",
    "            xaxis_title='Objetivo 1',\n",
    "            yaxis_title='Objetivo 2',\n",
    "            zaxis_title='Objetivo 3'\n",
    "        )\n",
    "    )\n",
    "\n",
    "    fig = go.Figure(data=[trace], layout=layout)\n",
    "    pyo.iplot(fig)\n"
   ]
  }
 ],
 "metadata": {
  "kernelspec": {
   "display_name": "Python 3",
   "language": "python",
   "name": "python3"
  },
  "language_info": {
   "codemirror_mode": {
    "name": "ipython",
    "version": 3
   },
   "file_extension": ".py",
   "mimetype": "text/x-python",
   "name": "python",
   "nbconvert_exporter": "python",
   "pygments_lexer": "ipython3",
   "version": "3.12.4"
  }
 },
 "nbformat": 4,
 "nbformat_minor": 5
}
