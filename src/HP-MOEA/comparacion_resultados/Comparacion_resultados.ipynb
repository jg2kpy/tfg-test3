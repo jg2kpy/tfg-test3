{
 "cells": [
  {
   "cell_type": "markdown",
   "id": "605d3a32",
   "metadata": {},
   "source": [
    "# Comparación de resultados"
   ]
  },
  {
   "cell_type": "code",
   "execution_count": 1,
   "id": "d982a305",
   "metadata": {},
   "outputs": [
    {
     "ename": "ValueError",
     "evalue": "need at least one array to concatenate",
     "output_type": "error",
     "traceback": [
      "\u001b[1;31m---------------------------------------------------------------------------\u001b[0m",
      "\u001b[1;31mValueError\u001b[0m                                Traceback (most recent call last)",
      "Cell \u001b[1;32mIn[1], line 25\u001b[0m\n\u001b[0;32m     22\u001b[0m             fitness_dict[archivo] \u001b[38;5;241m=\u001b[39m np\u001b[38;5;241m.\u001b[39marray(data[\u001b[38;5;124m\"\u001b[39m\u001b[38;5;124mfitnessF\u001b[39m\u001b[38;5;124m\"\u001b[39m])\n\u001b[0;32m     24\u001b[0m \u001b[38;5;66;03m# Unir todos los frentes para obtener el mejor frente no dominado global\u001b[39;00m\n\u001b[1;32m---> 25\u001b[0m todos_fitness \u001b[38;5;241m=\u001b[39m \u001b[43mnp\u001b[49m\u001b[38;5;241;43m.\u001b[39;49m\u001b[43mvstack\u001b[49m\u001b[43m(\u001b[49m\u001b[38;5;28;43mlist\u001b[39;49m\u001b[43m(\u001b[49m\u001b[43mfitness_dict\u001b[49m\u001b[38;5;241;43m.\u001b[39;49m\u001b[43mvalues\u001b[49m\u001b[43m(\u001b[49m\u001b[43m)\u001b[49m\u001b[43m)\u001b[49m\u001b[43m)\u001b[49m\n\u001b[0;32m     27\u001b[0m \u001b[38;5;66;03m# Obtener frontera de referencia no dominada\u001b[39;00m\n\u001b[0;32m     28\u001b[0m nds \u001b[38;5;241m=\u001b[39m NonDominatedSorting()\n",
      "File \u001b[1;32mc:\\Users\\jlgut\\AppData\\Local\\Programs\\Python\\Python312\\Lib\\site-packages\\numpy\\core\\shape_base.py:289\u001b[0m, in \u001b[0;36mvstack\u001b[1;34m(tup, dtype, casting)\u001b[0m\n\u001b[0;32m    287\u001b[0m \u001b[38;5;28;01mif\u001b[39;00m \u001b[38;5;129;01mnot\u001b[39;00m \u001b[38;5;28misinstance\u001b[39m(arrs, \u001b[38;5;28mlist\u001b[39m):\n\u001b[0;32m    288\u001b[0m     arrs \u001b[38;5;241m=\u001b[39m [arrs]\n\u001b[1;32m--> 289\u001b[0m \u001b[38;5;28;01mreturn\u001b[39;00m \u001b[43m_nx\u001b[49m\u001b[38;5;241;43m.\u001b[39;49m\u001b[43mconcatenate\u001b[49m\u001b[43m(\u001b[49m\u001b[43marrs\u001b[49m\u001b[43m,\u001b[49m\u001b[43m \u001b[49m\u001b[38;5;241;43m0\u001b[39;49m\u001b[43m,\u001b[49m\u001b[43m \u001b[49m\u001b[43mdtype\u001b[49m\u001b[38;5;241;43m=\u001b[39;49m\u001b[43mdtype\u001b[49m\u001b[43m,\u001b[49m\u001b[43m \u001b[49m\u001b[43mcasting\u001b[49m\u001b[38;5;241;43m=\u001b[39;49m\u001b[43mcasting\u001b[49m\u001b[43m)\u001b[49m\n",
      "\u001b[1;31mValueError\u001b[0m: need at least one array to concatenate"
     ]
    }
   ],
   "source": [
    "import os\n",
    "import pickle\n",
    "import numpy as np\n",
    "from pymoo.indicators.hv import Hypervolume\n",
    "from pymoo.indicators.gd import GD\n",
    "from pymoo.indicators.igd import IGD\n",
    "from pymoo.util.nds.non_dominated_sorting import NonDominatedSorting\n",
    "from pymoo.visualization.scatter import Scatter\n",
    "\n",
    "# --- Configuración ---\n",
    "DIRECTORIO = \"./modificacion1\"  # directorio actual\n",
    "EXTENSION = \".pkl\"\n",
    "\n",
    "# Leer todos los archivos .pkl del directorio\n",
    "archivos = [f for f in os.listdir(DIRECTORIO) if f.endswith(EXTENSION)]\n",
    "\n",
    "fitness_dict = {}\n",
    "for archivo in archivos:\n",
    "    with open(os.path.join(DIRECTORIO, archivo), \"rb\") as f:\n",
    "        data = pickle.load(f)\n",
    "        if isinstance(data, dict) and \"fitnessF\" in data:\n",
    "            fitness_dict[archivo] = np.array(data[\"fitnessF\"])\n",
    "\n",
    "# Unir todos los frentes para obtener el mejor frente no dominado global\n",
    "todos_fitness = np.vstack(list(fitness_dict.values()))\n",
    "\n",
    "# Obtener frontera de referencia no dominada\n",
    "nds = NonDominatedSorting()\n",
    "nd_idx = nds.do(todos_fitness, only_non_dominated_front=True)\n",
    "frontera_referencia = todos_fitness[nd_idx]\n",
    "\n",
    "# Calcular punto de referencia para HV\n",
    "ref_point = [0, 0]\n",
    "\n",
    "# --- Cálculo de métricas ---\n",
    "print(f\"{'Archivo':<60} | {'HV':>8} | {'GD':>8} | {'IGD':>8}\")\n",
    "print(\"-\" * 90)\n",
    "\n",
    "hv_vals = []\n",
    "gd_vals = []\n",
    "igd_vals = []\n",
    "\n",
    "for nombre, fitness in fitness_dict.items():\n",
    "    hv = Hypervolume(ref_point=ref_point).do(fitness)\n",
    "    gd = GD(frontera_referencia).do(fitness)\n",
    "    igd = IGD(frontera_referencia).do(fitness)\n",
    "\n",
    "    hv_vals.append(hv)\n",
    "    gd_vals.append(gd)\n",
    "    igd_vals.append(igd)\n",
    "\n",
    "    print(f\"{nombre:<60} | {hv:8.4f} | {gd:8.4f} | {igd:8.4f}\")\n",
    "\n",
    "# --- Resultados estadísticos ---\n",
    "print(\"-\" * 90)\n",
    "print(f\"{'PROMEDIO':<60} | {np.mean(hv_vals):8.4f} | {np.mean(gd_vals):8.4f} | {np.mean(igd_vals):8.4f}\")\n",
    "print(f\"{'DESV.STD':<60} | {np.std(hv_vals):8.4f} | {np.std(gd_vals):8.4f} | {np.std(igd_vals):8.4f}\")\n",
    "\n",
    "# --- Gráfico del mejor frente no dominado ---\n",
    "plot = Scatter(title=\"Mejor Frente No Dominado (Referencia)\", labels=[\"Obj1\", \"Obj2\"], s=5)\n",
    "plot.add(frontera_referencia * -1, label=\"Mejor frente no dominado\", color=\"red\", marker='o', s=5)\n",
    "plot.show()"
   ]
  },
  {
   "cell_type": "code",
   "execution_count": null,
   "id": "b4885bb6",
   "metadata": {},
   "outputs": [],
   "source": [
    "# --- Configuración ---\n",
    "directorios = [\"./original\", \"./modificacion1\"]\n",
    "extension = \".pkl\"\n",
    "fronteras = []\n",
    "labels = []\n",
    "\n",
    "for directorio in directorios:\n",
    "    archivos = [f for f in os.listdir(directorio) if f.endswith(extension)]\n",
    "    fitness_dict = {}\n",
    "    for archivo in archivos:\n",
    "        with open(os.path.join(directorio, archivo), \"rb\") as f:\n",
    "            data = pickle.load(f)\n",
    "            if isinstance(data, dict) and \"fitnessF\" in data:\n",
    "                fitness_dict[archivo] = np.array(data[\"fitnessF\"])\n",
    "    todos_fitness = np.vstack(list(fitness_dict.values()))\n",
    "    nds = NonDominatedSorting()\n",
    "    nd_idx = nds.do(todos_fitness, only_non_dominated_front=True)\n",
    "    frontera = todos_fitness[nd_idx]\n",
    "    fronteras.append(frontera)\n",
    "    labels.append(directorio)\n",
    "\n",
    "# --- Gráfico de ambos frentes no dominados ---\n",
    "plot = Scatter(title=\"Comparación de Frentes No Dominados\", labels=[\"Obj1\", \"Obj2\"], s=5)\n",
    "plot.add(fronteras[0] * -1, label=labels[0], color=\"red\", marker='o', s=5)\n",
    "plot.add(fronteras[1] * -1, label=labels[1], color=\"blue\", marker='x', s=5)\n",
    "plot.show()\n"
   ]
  }
 ],
 "metadata": {
  "kernelspec": {
   "display_name": "Python 3",
   "language": "python",
   "name": "python3"
  },
  "language_info": {
   "codemirror_mode": {
    "name": "ipython",
    "version": 3
   },
   "file_extension": ".py",
   "mimetype": "text/x-python",
   "name": "python",
   "nbconvert_exporter": "python",
   "pygments_lexer": "ipython3",
   "version": "3.12.4"
  }
 },
 "nbformat": 4,
 "nbformat_minor": 5
}
